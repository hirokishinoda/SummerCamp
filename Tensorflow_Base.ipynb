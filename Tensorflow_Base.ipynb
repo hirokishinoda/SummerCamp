{
 "cells": [
  {
   "cell_type": "markdown",
   "metadata": {},
   "source": [
    "# Tensorflowの基礎"
   ]
  },
  {
   "cell_type": "markdown",
   "metadata": {},
   "source": [
    "## Tensorflowについて"
   ]
  },
  {
   "cell_type": "code",
   "execution_count": null,
   "metadata": {},
   "outputs": [],
   "source": []
  },
  {
   "cell_type": "markdown",
   "metadata": {},
   "source": [
    "## Tensorflowのインストール"
   ]
  },
  {
   "cell_type": "code",
   "execution_count": null,
   "metadata": {},
   "outputs": [],
   "source": []
  },
  {
   "cell_type": "markdown",
   "metadata": {},
   "source": [
    "## 定数"
   ]
  },
  {
   "cell_type": "code",
   "execution_count": null,
   "metadata": {},
   "outputs": [],
   "source": [
    "定数を宣言して，計算してみる．\n",
    "\n",
    "セッションについては，後々見ていく…\n",
    "\n",
    "sess.run()を実行すると計算グラフが作られる．"
   ]
  },
  {
   "cell_type": "code",
   "execution_count": 10,
   "metadata": {},
   "outputs": [
    {
     "name": "stdout",
     "output_type": "stream",
     "text": [
      "--before--\n",
      "Tensor(\"Const_4:0\", shape=(), dtype=int32)\n",
      "--after--\n",
      "10\n"
     ]
    }
   ],
   "source": [
    "# 定数を代入する操作\n",
    "# これだけでは，まだ実行されていない\n",
    "x = tf.constant(10)\n",
    "print(\"--before--\")\n",
    "print(x)\n",
    "\n",
    "# sess.run()をして，初めて実行される\n",
    "with tf.Session() as sess:\n",
    "    result = sess.run(x)\n",
    "    print(\"--after--\")\n",
    "    print(result)"
   ]
  },
  {
   "cell_type": "code",
   "execution_count": 8,
   "metadata": {},
   "outputs": [
    {
     "name": "stdout",
     "output_type": "stream",
     "text": [
      "40\n"
     ]
    }
   ],
   "source": [
    "# 足し算をしてみようという試み\n",
    "const_1 = tf.constant(10)\n",
    "const_2 = tf.constant(30)\n",
    "added = const_1 + const_2　# 10 + 30をする操作　＊まだ実行されていない\n",
    "\n",
    "with tf.Session() as sess:\n",
    "    result = sess.run(added) # ＊ここで初めて実行される\n",
    "    print(result)"
   ]
  },
  {
   "cell_type": "markdown",
   "metadata": {},
   "source": [
    "## Variable\n",
    "\n",
    "初期化しないいといけない．\n",
    "\n",
    "モデルのパラメータを表す．\n",
    "\n",
    "グラフを実行してもメモリに残り続ける．\n",
    "\n",
    "勾配降下法を使って繰り返し変更可能．"
   ]
  },
  {
   "cell_type": "code",
   "execution_count": null,
   "metadata": {},
   "outputs": [],
   "source": [
    "# ２つの層をつなぐ重み\n",
    "weight = tf.Variable(\n",
    "    tf.random_normal([300,200], stddev=0.5), # 正規分布に従ったテンソルを作成\n",
    "    name='weights' # \n",
    "    # trainable = False # トレーニング対象にしたくないときにFalseにする\n",
    ")"
   ]
  },
  {
   "cell_type": "code",
   "execution_count": 1,
   "metadata": {
    "collapsed": true
   },
   "outputs": [
    {
     "ename": "NameError",
     "evalue": "name 'tf' is not defined",
     "output_type": "error",
     "traceback": [
      "\u001b[0;31m---------------------------------------------------------------------------\u001b[0m",
      "\u001b[0;31mNameError\u001b[0m                                 Traceback (most recent call last)",
      "\u001b[0;32m<ipython-input-1-5becff63251d>\u001b[0m in \u001b[0;36m<module>\u001b[0;34m()\u001b[0m\n\u001b[1;32m      1\u001b[0m \u001b[0;31m# Valuableの初期化\u001b[0m\u001b[0;34m\u001b[0m\u001b[0;34m\u001b[0m\u001b[0m\n\u001b[0;32m----> 2\u001b[0;31m \u001b[0mtf\u001b[0m\u001b[0;34m.\u001b[0m\u001b[0mzeros\u001b[0m\u001b[0;34m(\u001b[0m\u001b[0mshape\u001b[0m\u001b[0;34m,\u001b[0m \u001b[0mdtype\u001b[0m\u001b[0;34m=\u001b[0m\u001b[0mtf\u001b[0m\u001b[0;34m.\u001b[0m\u001b[0mfloat32\u001b[0m\u001b[0;34m,\u001b[0m \u001b[0mname\u001b[0m\u001b[0;34m=\u001b[0m\u001b[0;32mNone\u001b[0m\u001b[0;34m)\u001b[0m\u001b[0;34m\u001b[0m\u001b[0m\n\u001b[0m\u001b[1;32m      3\u001b[0m \u001b[0mtf\u001b[0m\u001b[0;34m.\u001b[0m\u001b[0mones\u001b[0m\u001b[0;34m(\u001b[0m\u001b[0mshape\u001b[0m\u001b[0;34m,\u001b[0m \u001b[0mdtype\u001b[0m\u001b[0;34m=\u001b[0m\u001b[0mtf\u001b[0m\u001b[0;34m.\u001b[0m\u001b[0mfloat32\u001b[0m\u001b[0;34m,\u001b[0m \u001b[0mname\u001b[0m\u001b[0;34m=\u001b[0m\u001b[0;32mNone\u001b[0m\u001b[0;34m)\u001b[0m\u001b[0;34m\u001b[0m\u001b[0m\n",
      "\u001b[0;31mNameError\u001b[0m: name 'tf' is not defined"
     ]
    }
   ],
   "source": [
    "# Valuableの初期化\n",
    "# 初期化の方法はいくつか用意されている\n",
    "tf.zeros(shape, dtype=tf.float32, name=None)\n",
    "tf.ones(shape, dtype=tf.float32, name=None)\n",
    "tf.random_normal(shape, mean=0.0, stddev=1.0, dtype=tf.float32, seed=None, name=None)\n",
    "tf.truncated_normal(shape, mean=0.0, stddev=1.0, dtype=tf.float32, seed=None, name=None)\n",
    "tf.random_uniform(shape, minval=0, maxval=None, dtype=tf.float32, seed=None, name=None)"
   ]
  },
  {
   "cell_type": "markdown",
   "metadata": {},
   "source": [
    "Varialeは，以下の３つの操作がグラフに追加される．\n",
    "- テンソルの生成\n",
    "- Variableを使う前の初期値を与える(tf.assign)\n",
    "- 現在の値を保持する．"
   ]
  },
  {
   "cell_type": "code",
   "execution_count": null,
   "metadata": {},
   "outputs": [],
   "source": [
    "# グラフ内の全てのVariableのtf.assignを実行する．\n",
    "tf.global_variables_initializer()\n",
    "# 一部だけの実行\n",
    "tf.global_variables_initializer([var1,var2,...])"
   ]
  },
  {
   "cell_type": "markdown",
   "metadata": {},
   "source": [
    "## プレースホルダ"
   ]
  },
  {
   "cell_type": "markdown",
   "metadata": {},
   "source": [
    "トレーニングやテストのときに値を渡す際に使う．\n",
    "\n",
    "グラフの実行のたびに値がセットされる．\n",
    "\n",
    "x : ミニバッチを表している"
   ]
  },
  {
   "cell_type": "code",
   "execution_count": 1,
   "metadata": {
    "collapsed": true
   },
   "outputs": [
    {
     "ename": "NameError",
     "evalue": "name 'tf' is not defined",
     "output_type": "error",
     "traceback": [
      "\u001b[0;31m---------------------------------------------------------------------------\u001b[0m",
      "\u001b[0;31mNameError\u001b[0m                                 Traceback (most recent call last)",
      "\u001b[0;32m<ipython-input-1-824fe9c07925>\u001b[0m in \u001b[0;36m<module>\u001b[0;34m()\u001b[0m\n\u001b[0;32m----> 1\u001b[0;31m \u001b[0mx\u001b[0m \u001b[0;34m=\u001b[0m \u001b[0mtf\u001b[0m\u001b[0;34m.\u001b[0m\u001b[0mplaceholder\u001b[0m\u001b[0;34m(\u001b[0m\u001b[0mtf\u001b[0m\u001b[0;34m.\u001b[0m\u001b[0mfloat32\u001b[0m\u001b[0;34m,\u001b[0m \u001b[0mname\u001b[0m\u001b[0;34m=\u001b[0m\u001b[0;34m'x'\u001b[0m\u001b[0;34m,\u001b[0m \u001b[0mshape\u001b[0m\u001b[0;34m=\u001b[0m\u001b[0;34m[\u001b[0m\u001b[0;32mNone\u001b[0m\u001b[0;34m,\u001b[0m \u001b[0;36m784\u001b[0m\u001b[0;34m]\u001b[0m\u001b[0;34m)\u001b[0m\u001b[0;34m\u001b[0m\u001b[0m\n\u001b[0m\u001b[1;32m      2\u001b[0m \u001b[0mW\u001b[0m \u001b[0;34m=\u001b[0m \u001b[0mtf\u001b[0m\u001b[0;34m.\u001b[0m\u001b[0mVariable\u001b[0m\u001b[0;34m(\u001b[0m\u001b[0mtf\u001b[0m\u001b[0;34m.\u001b[0m\u001b[0mrandom_uniform\u001b[0m\u001b[0;34m(\u001b[0m\u001b[0;34m[\u001b[0m\u001b[0;36m784\u001b[0m\u001b[0;34m,\u001b[0m\u001b[0;36m10\u001b[0m\u001b[0;34m]\u001b[0m\u001b[0;34m,\u001b[0m \u001b[0;34m-\u001b[0m\u001b[0;36m1\u001b[0m\u001b[0;34m,\u001b[0m \u001b[0;36m1\u001b[0m\u001b[0;34m)\u001b[0m\u001b[0;34m,\u001b[0m \u001b[0mname\u001b[0m\u001b[0;34m=\u001b[0m\u001b[0;34m'W'\u001b[0m\u001b[0;34m)\u001b[0m\u001b[0;34m\u001b[0m\u001b[0m\n\u001b[1;32m      3\u001b[0m \u001b[0mmultiple\u001b[0m \u001b[0;34m=\u001b[0m \u001b[0mtf\u001b[0m\u001b[0;34m.\u001b[0m\u001b[0mmatmul\u001b[0m\u001b[0;34m(\u001b[0m\u001b[0mx\u001b[0m\u001b[0;34m,\u001b[0m \u001b[0mW\u001b[0m\u001b[0;34m)\u001b[0m\u001b[0;34m\u001b[0m\u001b[0m\n",
      "\u001b[0;31mNameError\u001b[0m: name 'tf' is not defined"
     ]
    }
   ],
   "source": [
    "# placeholderのインスタンス化\n",
    "x = tf.placeholder(tf.float32, name='x', shape=[None, 784])\n",
    "# 重み\n",
    "W = tf.Variable(tf.random_uniform([784,10], -1, 1), name='W')\n",
    "# 重みと入力(placeholder)の乗算\n",
    "multiple = tf.matmul(x, W)"
   ]
  },
  {
   "cell_type": "markdown",
   "metadata": {},
   "source": [
    "## セッション"
   ]
  },
  {
   "cell_type": "markdown",
   "metadata": {},
   "source": [
    "初期状態の計算グラフを生成する．\n",
    "\n",
    "Variableを正しく初期化して，計算グラフを実行する．\n",
    "\n",
    "sess.run()は，トレーニングにも使われる．"
   ]
  },
  {
   "cell_type": "code",
   "execution_count": 2,
   "metadata": {},
   "outputs": [],
   "source": [
    "import tensorflow as tf\n",
    "from tensorflow.examples.tutorials.mnist import input_data"
   ]
  },
  {
   "cell_type": "code",
   "execution_count": 4,
   "metadata": {
    "collapsed": true
   },
   "outputs": [
    {
     "name": "stdout",
     "output_type": "stream",
     "text": [
      "WARNING:tensorflow:From <ipython-input-4-dca7cb37f2c5>:11: read_data_sets (from tensorflow.contrib.learn.python.learn.datasets.mnist) is deprecated and will be removed in a future version.\n",
      "Instructions for updating:\n",
      "Please use alternatives such as official/mnist/dataset.py from tensorflow/models.\n",
      "WARNING:tensorflow:From /home/shinoda/.pyenv/versions/anaconda3-5.3.1/lib/python3.7/site-packages/tensorflow/contrib/learn/python/learn/datasets/mnist.py:260: maybe_download (from tensorflow.contrib.learn.python.learn.datasets.base) is deprecated and will be removed in a future version.\n",
      "Instructions for updating:\n",
      "Please write your own downloading logic.\n",
      "WARNING:tensorflow:From /home/shinoda/.pyenv/versions/anaconda3-5.3.1/lib/python3.7/site-packages/tensorflow/contrib/learn/python/learn/datasets/base.py:252: _internal_retry.<locals>.wrap.<locals>.wrapped_fn (from tensorflow.contrib.learn.python.learn.datasets.base) is deprecated and will be removed in a future version.\n",
      "Instructions for updating:\n",
      "Please use urllib or similar directly.\n",
      "Successfully downloaded train-images-idx3-ubyte.gz 9912422 bytes.\n",
      "WARNING:tensorflow:From /home/shinoda/.pyenv/versions/anaconda3-5.3.1/lib/python3.7/site-packages/tensorflow/contrib/learn/python/learn/datasets/mnist.py:262: extract_images (from tensorflow.contrib.learn.python.learn.datasets.mnist) is deprecated and will be removed in a future version.\n",
      "Instructions for updating:\n",
      "Please use tf.data to implement this functionality.\n",
      "Extracting data/train-images-idx3-ubyte.gz\n",
      "Successfully downloaded train-labels-idx1-ubyte.gz 28881 bytes.\n",
      "WARNING:tensorflow:From /home/shinoda/.pyenv/versions/anaconda3-5.3.1/lib/python3.7/site-packages/tensorflow/contrib/learn/python/learn/datasets/mnist.py:267: extract_labels (from tensorflow.contrib.learn.python.learn.datasets.mnist) is deprecated and will be removed in a future version.\n",
      "Instructions for updating:\n",
      "Please use tf.data to implement this functionality.\n",
      "Extracting data/train-labels-idx1-ubyte.gz\n",
      "WARNING:tensorflow:From /home/shinoda/.pyenv/versions/anaconda3-5.3.1/lib/python3.7/site-packages/tensorflow/contrib/learn/python/learn/datasets/mnist.py:110: dense_to_one_hot (from tensorflow.contrib.learn.python.learn.datasets.mnist) is deprecated and will be removed in a future version.\n",
      "Instructions for updating:\n",
      "Please use tf.one_hot on tensors.\n",
      "Successfully downloaded t10k-images-idx3-ubyte.gz 1648877 bytes.\n",
      "Extracting data/t10k-images-idx3-ubyte.gz\n",
      "Successfully downloaded t10k-labels-idx1-ubyte.gz 4542 bytes.\n",
      "Extracting data/t10k-labels-idx1-ubyte.gz\n",
      "WARNING:tensorflow:From /home/shinoda/.pyenv/versions/anaconda3-5.3.1/lib/python3.7/site-packages/tensorflow/contrib/learn/python/learn/datasets/mnist.py:290: DataSet.__init__ (from tensorflow.contrib.learn.python.learn.datasets.mnist) is deprecated and will be removed in a future version.\n",
      "Instructions for updating:\n",
      "Please use alternatives such as official/mnist/dataset.py from tensorflow/models.\n"
     ]
    },
    {
     "data": {
      "text/plain": [
       "array([[-16.533104  ,  -5.914361  ,  13.863939  ,  -8.4244995 ,\n",
       "          8.478891  ,   1.9044511 ,   9.533353  ,   7.601795  ,\n",
       "         -6.778779  , -12.115417  ],\n",
       "       [ -6.5296283 ,  -7.31201   ,   3.0740294 ,  -7.6422534 ,\n",
       "          3.5498376 ,   6.251199  ,   1.8983375 ,   8.984827  ,\n",
       "         -0.9451721 , -13.962557  ],\n",
       "       [ -4.117714  ,  -4.473975  ,  -0.9427483 ,  -7.6116743 ,\n",
       "          8.263983  ,  -0.54489946,  -2.5617847 ,   4.8722377 ,\n",
       "         -4.7659993 , -10.763287  ],\n",
       "       [ -5.645401  ,  -2.7977636 ,  -1.1456127 ,  -4.4217753 ,\n",
       "          2.6445193 ,   3.3621593 ,   1.4761984 ,   2.984984  ,\n",
       "          0.8936629 ,  -7.104396  ],\n",
       "       [ -5.7703986 ,  -5.184106  ,  -0.6241127 ,  -6.659742  ,\n",
       "          5.5149765 ,   5.5554414 ,  -1.7266273 ,   0.9808268 ,\n",
       "         -4.5710607 ,  -6.9102697 ],\n",
       "       [  1.693481  ,  -3.325232  ,  -3.3328223 ,   1.2382884 ,\n",
       "          4.401011  ,   0.89309645,   2.4179358 ,   8.302815  ,\n",
       "         -3.9781394 ,  -4.49143   ],\n",
       "       [ -2.3806992 ,  -3.174876  ,  -2.3209987 , -11.512921  ,\n",
       "          4.381749  ,  -1.667284  ,   5.555566  ,   7.077691  ,\n",
       "         -7.5970078 , -10.555195  ],\n",
       "       [ -4.9905667 ,   1.1072625 ,  -3.191734  ,   0.30686736,\n",
       "          4.8274984 ,  -1.5725924 ,   1.4124169 ,   6.69701   ,\n",
       "         -3.9956217 ,  -3.223478  ],\n",
       "       [ -8.694832  ,   4.2344837 ,   6.5519414 , -11.301735  ,\n",
       "         -1.8817244 ,   1.1003835 ,   3.258347  ,   7.0352554 ,\n",
       "          1.5062082 , -11.001421  ],\n",
       "       [ -2.710141  ,  -8.038065  ,  -4.6753507 ,  -4.8606844 ,\n",
       "         12.200207  ,   0.99813724,   0.8998542 ,   2.570333  ,\n",
       "         -2.1528225 ,  -8.807807  ],\n",
       "       [ -8.728234  ,  -2.8222723 ,   5.5281725 ,  -3.8193514 ,\n",
       "         -5.1819553 ,   1.6414294 ,   5.4184685 ,   3.189334  ,\n",
       "          1.3866428 ,  -6.3195133 ],\n",
       "       [  0.9439434 ,   5.0819807 ,  -3.638382  ,  -4.453606  ,\n",
       "         -1.8418567 ,  -4.3220415 ,  -0.7968772 ,   9.679785  ,\n",
       "         -7.527272  ,  -5.157359  ],\n",
       "       [ -7.8382874 ,  -2.6929069 ,   2.8533428 ,  -4.556186  ,\n",
       "          5.561983  ,   3.862608  ,   4.4482007 ,   6.3192434 ,\n",
       "         -1.7920785 , -13.244784  ],\n",
       "       [ -3.5812733 ,  -8.157289  ,   0.42512977,  -2.731454  ,\n",
       "         -4.028572  ,   3.5619693 ,  -3.7389216 ,   3.8744712 ,\n",
       "         -5.476532  ,  -5.378477  ],\n",
       "       [  0.7405641 ,  -4.721265  ,   2.1982927 ,  -9.117928  ,\n",
       "          3.8928323 ,  -0.8309463 ,  -7.9022512 ,   3.449005  ,\n",
       "         -0.5560417 ,  -3.7815619 ],\n",
       "       [ -4.570712  ,  -0.51471436,  -1.0186262 ,  -1.6220541 ,\n",
       "          3.3640966 ,   1.5305955 ,   7.0654116 ,  11.072771  ,\n",
       "         -4.7255363 ,  -5.18087   ],\n",
       "       [ -9.682316  ,  -2.3498108 ,   5.2320967 ,  -6.8893175 ,\n",
       "         -2.5472353 ,   1.0490724 ,  -0.5261607 ,  -1.5209942 ,\n",
       "         -0.10203385,  -3.6836364 ],\n",
       "       [-13.226221  ,  -1.0813575 ,   1.511312  , -14.086767  ,\n",
       "         -1.1460402 ,   5.7689095 ,  10.38372   ,   3.5904179 ,\n",
       "          1.977533  , -15.093207  ],\n",
       "       [ -3.049708  ,  -1.7657954 ,   1.136798  ,  -4.3711014 ,\n",
       "          0.47414315,  -0.8476949 ,   1.9006293 ,   5.8333645 ,\n",
       "          0.69619143,  -7.440442  ],\n",
       "       [ -1.7196503 ,  -2.4155688 ,  14.174105  ,  -9.791534  ,\n",
       "         -0.32802296,  -2.088118  ,   5.6427813 ,   3.8486347 ,\n",
       "         -5.496635  ,  -8.361464  ],\n",
       "       [ -9.265308  ,  -3.267486  ,   5.0030985 ,  -3.532009  ,\n",
       "         -1.518267  ,   3.5153632 ,   3.045517  ,   5.5028934 ,\n",
       "          0.42918777,  -6.1324196 ],\n",
       "       [ -3.7434254 ,  -2.859757  ,   3.8750486 ,  -4.9176483 ,\n",
       "          4.143172  ,  -0.8588115 ,   6.4597096 ,   8.49402   ,\n",
       "         -5.8452873 ,  -9.307679  ],\n",
       "       [-12.011231  ,  -4.4756327 ,   4.78605   , -16.090607  ,\n",
       "         -1.1375556 ,   3.5425897 ,   6.3546767 ,   7.4164095 ,\n",
       "         -0.6556823 , -12.407856  ],\n",
       "       [-10.021397  , -10.366285  ,  -1.2526615 ,  -2.2661552 ,\n",
       "          5.9715204 ,   4.886733  ,   1.2218575 ,   2.6484199 ,\n",
       "         -1.5423471 ,  -7.6126366 ],\n",
       "       [ -7.2939854 ,  -3.2649176 ,   7.9780164 ,  -7.414769  ,\n",
       "         -1.2626398 ,  -0.2344842 ,   5.6553745 ,   7.42015   ,\n",
       "         -1.1563574 ,  -9.780435  ],\n",
       "       [ -5.5846777 ,  -4.5650606 ,   8.098222  , -12.311714  ,\n",
       "          3.1169524 ,  -2.0896297 ,   5.9393783 ,   3.0319853 ,\n",
       "          0.26945877,  -6.8893723 ],\n",
       "       [ -1.6588932 ,  -2.820343  ,   2.6784117 ,  -6.0121207 ,\n",
       "          9.385953  ,   7.861408  ,  -3.6144214 ,   5.6857934 ,\n",
       "          1.2682066 ,  -8.1144495 ],\n",
       "       [ -8.603962  ,  -6.6875196 ,   7.6015797 ,  -3.1395802 ,\n",
       "          6.7286177 ,  -5.469283  ,   9.122626  ,   7.838571  ,\n",
       "         -2.315358  ,  -9.540331  ],\n",
       "       [ -2.8005528 ,  -4.0479264 ,   6.3033514 ,  -2.7559297 ,\n",
       "         -6.1668606 ,  -1.1435127 ,   9.398795  ,   5.035448  ,\n",
       "          2.7132964 ,  -4.062807  ],\n",
       "       [-10.225914  ,  -0.6201134 ,   7.424217  ,  -1.7570543 ,\n",
       "          3.074955  ,   3.9264474 ,   2.2764232 ,   8.822429  ,\n",
       "         -5.8337364 ,  -6.5622272 ],\n",
       "       [ -3.9497442 ,  -3.844778  ,  -1.2579637 ,  -4.8618326 ,\n",
       "          3.1603441 ,   1.4600306 ,   3.5869565 ,   5.223816  ,\n",
       "          1.4572468 , -12.221123  ],\n",
       "       [ -1.002255  ,   8.135659  ,   2.1629677 , -10.485605  ,\n",
       "         -2.6870732 ,  -4.8160024 ,  10.295698  ,   1.029582  ,\n",
       "          4.398652  ,  -6.993358  ]], dtype=float32)"
      ]
     },
     "execution_count": 4,
     "metadata": {},
     "output_type": "execute_result"
    }
   ],
   "source": [
    "# グラフを構築している\n",
    "x = tf.placeholder(tf.float32, name='x', shape=[None, 784])\n",
    "W = tf.Variable(tf.random_uniform([784, 10], -1, 1), name='W')\n",
    "b = tf.Variable(tf.zeros([10]), name='biases')\n",
    "output = tf.matmul(x, W) + b\n",
    "\n",
    "# グラフの初期化\n",
    "init_op = tf.global_variables_initializer()\n",
    "sess = tf.Session()\n",
    "sess.run(init_op)\n",
    "\n",
    "# mnistデータの読込\n",
    "mnist = input_data.read_data_sets('data', one_hot=True)\n",
    "minibatch_x, minibatch_y = mnist.train.next_batch(32)\n",
    "\n",
    "# 実際に計算グラフを実行している\n",
    "feed_dict = {x : minibatch_x}\n",
    "sess.run(output, feed_dict=feed_dict)"
   ]
  },
  {
   "cell_type": "markdown",
   "metadata": {},
   "source": [
    "## Variableのスコープと共有"
   ]
  },
  {
   "cell_type": "code",
   "execution_count": null,
   "metadata": {},
   "outputs": [],
   "source": []
  },
  {
   "cell_type": "markdown",
   "metadata": {},
   "source": [
    "## CPUとGPUでのモデルの管理"
   ]
  },
  {
   "cell_type": "code",
   "execution_count": null,
   "metadata": {},
   "outputs": [],
   "source": []
  },
  {
   "cell_type": "markdown",
   "metadata": {},
   "source": [
    "## ロジスティック回帰モデル"
   ]
  },
  {
   "cell_type": "code",
   "execution_count": null,
   "metadata": {},
   "outputs": [],
   "source": []
  },
  {
   "cell_type": "markdown",
   "metadata": {},
   "source": [
    "### ログの記録とトレーニング"
   ]
  },
  {
   "cell_type": "code",
   "execution_count": null,
   "metadata": {},
   "outputs": [],
   "source": []
  },
  {
   "cell_type": "markdown",
   "metadata": {},
   "source": [
    "### TensorBoardを利用した可視化"
   ]
  },
  {
   "cell_type": "code",
   "execution_count": null,
   "metadata": {},
   "outputs": [],
   "source": []
  },
  {
   "cell_type": "markdown",
   "metadata": {},
   "source": [
    "# Tensorflowを応用してみよう"
   ]
  },
  {
   "cell_type": "markdown",
   "metadata": {},
   "source": [
    "## 多階層のMNISTモデル"
   ]
  },
  {
   "cell_type": "code",
   "execution_count": null,
   "metadata": {},
   "outputs": [],
   "source": []
  },
  {
   "cell_type": "markdown",
   "metadata": {},
   "source": [
    "## CNN"
   ]
  },
  {
   "cell_type": "code",
   "execution_count": null,
   "metadata": {},
   "outputs": [],
   "source": []
  },
  {
   "cell_type": "markdown",
   "metadata": {},
   "source": [
    "## 参考文献"
   ]
  },
  {
   "cell_type": "markdown",
   "metadata": {},
   "source": [
    "- 実践Deep Learninng, O'REILY (https://www.oreilly.co.jp/books/9784873118321/)\n",
    "- Tensorflow (https://www.tensorflow.org/?hl=ja)"
   ]
  },
  {
   "cell_type": "code",
   "execution_count": null,
   "metadata": {},
   "outputs": [],
   "source": []
  }
 ],
 "metadata": {
  "kernelspec": {
   "display_name": "Python 3",
   "language": "python",
   "name": "python3"
  },
  "language_info": {
   "codemirror_mode": {
    "name": "ipython",
    "version": 3
   },
   "file_extension": ".py",
   "mimetype": "text/x-python",
   "name": "python",
   "nbconvert_exporter": "python",
   "pygments_lexer": "ipython3",
   "version": "3.7.0"
  },
  "toc": {
   "base_numbering": "1",
   "nav_menu": {
    "height": "162px",
    "width": "169px"
   },
   "number_sections": true,
   "sideBar": true,
   "skip_h1_title": true,
   "title_cell": "Table of Contents",
   "title_sidebar": "Contents",
   "toc_cell": false,
   "toc_position": {
    "height": "calc(100% - 180px)",
    "left": "10px",
    "top": "150px",
    "width": "273.188px"
   },
   "toc_section_display": true,
   "toc_window_display": true
  }
 },
 "nbformat": 4,
 "nbformat_minor": 2
}
