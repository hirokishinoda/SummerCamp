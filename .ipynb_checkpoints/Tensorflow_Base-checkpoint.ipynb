{
 "cells": [
  {
   "cell_type": "markdown",
   "metadata": {
    "toc": true
   },
   "source": [
    "<h1>Table of Contents<span class=\"tocSkip\"></span></h1>\n",
    "<div class=\"toc\"><ul class=\"toc-item\"><li><span><a href=\"#Tensorflowについて\" data-toc-modified-id=\"Tensorflowについて-1\"><span class=\"toc-item-num\">1&nbsp;&nbsp;</span>Tensorflowについて</a></span></li><li><span><a href=\"#Tensorflowのインストール\" data-toc-modified-id=\"Tensorflowのインストール-2\"><span class=\"toc-item-num\">2&nbsp;&nbsp;</span>Tensorflowのインストール</a></span><ul class=\"toc-item\"><li><span><a href=\"#pyenv-+-anacondaで構築\" data-toc-modified-id=\"pyenv-+-anacondaで構築-2.1\"><span class=\"toc-item-num\">2.1&nbsp;&nbsp;</span>pyenv + anacondaで構築</a></span></li><li><span><a href=\"#pyenv-installerを使うとインストールが早いらしい\" data-toc-modified-id=\"pyenv-installerを使うとインストールが早いらしい-2.2\"><span class=\"toc-item-num\">2.2&nbsp;&nbsp;</span>pyenv installerを使うとインストールが早いらしい</a></span></li><li><span><a href=\"#bashの設定\" data-toc-modified-id=\"bashの設定-2.3\"><span class=\"toc-item-num\">2.3&nbsp;&nbsp;</span>bashの設定</a></span></li><li><span><a href=\"#pyenv-list\" data-toc-modified-id=\"pyenv-list-2.4\"><span class=\"toc-item-num\">2.4&nbsp;&nbsp;</span>pyenv list</a></span></li><li><span><a href=\"#Anacondaのインストール\" data-toc-modified-id=\"Anacondaのインストール-2.5\"><span class=\"toc-item-num\">2.5&nbsp;&nbsp;</span>Anacondaのインストール</a></span></li><li><span><a href=\"#確認\" data-toc-modified-id=\"確認-2.6\"><span class=\"toc-item-num\">2.6&nbsp;&nbsp;</span>確認</a></span></li><li><span><a href=\"#Anacondaでのインストール\" data-toc-modified-id=\"Anacondaでのインストール-2.7\"><span class=\"toc-item-num\">2.7&nbsp;&nbsp;</span>Anacondaでのインストール</a></span></li><li><span><a href=\"#ハマったところ\" data-toc-modified-id=\"ハマったところ-2.8\"><span class=\"toc-item-num\">2.8&nbsp;&nbsp;</span>ハマったところ</a></span></li></ul></li><li><span><a href=\"#定数\" data-toc-modified-id=\"定数-3\"><span class=\"toc-item-num\">3&nbsp;&nbsp;</span>定数</a></span></li><li><span><a href=\"#Variable\" data-toc-modified-id=\"Variable-4\"><span class=\"toc-item-num\">4&nbsp;&nbsp;</span>Variable</a></span></li><li><span><a href=\"#プレースホルダ\" data-toc-modified-id=\"プレースホルダ-5\"><span class=\"toc-item-num\">5&nbsp;&nbsp;</span>プレースホルダ</a></span></li><li><span><a href=\"#セッション\" data-toc-modified-id=\"セッション-6\"><span class=\"toc-item-num\">6&nbsp;&nbsp;</span>セッション</a></span></li><li><span><a href=\"#Variableのスコープと共有\" data-toc-modified-id=\"Variableのスコープと共有-7\"><span class=\"toc-item-num\">7&nbsp;&nbsp;</span>Variableのスコープと共有</a></span></li><li><span><a href=\"#CPUとGPUでのモデルの管理\" data-toc-modified-id=\"CPUとGPUでのモデルの管理-8\"><span class=\"toc-item-num\">8&nbsp;&nbsp;</span>CPUとGPUでのモデルの管理</a></span></li><li><span><a href=\"#ロジスティック回帰モデル\" data-toc-modified-id=\"ロジスティック回帰モデル-9\"><span class=\"toc-item-num\">9&nbsp;&nbsp;</span>ロジスティック回帰モデル</a></span><ul class=\"toc-item\"><li><span><a href=\"#ロジスティック回帰モデル風なネットワーク？\" data-toc-modified-id=\"ロジスティック回帰モデル風なネットワーク？-9.1\"><span class=\"toc-item-num\">9.1&nbsp;&nbsp;</span>ロジスティック回帰モデル風なネットワーク？</a></span><ul class=\"toc-item\"><li><span><a href=\"#よく使われるMNISTデータ\" data-toc-modified-id=\"よく使われるMNISTデータ-9.1.1\"><span class=\"toc-item-num\">9.1.1&nbsp;&nbsp;</span>よく使われるMNISTデータ</a></span></li></ul></li></ul></li><li><span><a href=\"#モデルの保存・復元\" data-toc-modified-id=\"モデルの保存・復元-10\"><span class=\"toc-item-num\">10&nbsp;&nbsp;</span>モデルの保存・復元</a></span><ul class=\"toc-item\"><li><span><a href=\"#TensorBoardを利用した可視化\" data-toc-modified-id=\"TensorBoardを利用した可視化-10.1\"><span class=\"toc-item-num\">10.1&nbsp;&nbsp;</span>TensorBoardを利用した可視化</a></span></li></ul></li><li><span><a href=\"#多階層のMNISTモデル\" data-toc-modified-id=\"多階層のMNISTモデル-11\"><span class=\"toc-item-num\">11&nbsp;&nbsp;</span>多階層のMNISTモデル</a></span></li><li><span><a href=\"#CNN\" data-toc-modified-id=\"CNN-12\"><span class=\"toc-item-num\">12&nbsp;&nbsp;</span>CNN</a></span></li><li><span><a href=\"#結果の比較\" data-toc-modified-id=\"結果の比較-13\"><span class=\"toc-item-num\">13&nbsp;&nbsp;</span>結果の比較</a></span></li><li><span><a href=\"#参考文献\" data-toc-modified-id=\"参考文献-14\"><span class=\"toc-item-num\">14&nbsp;&nbsp;</span>参考文献</a></span></li></ul></div>"
   ]
  },
  {
   "cell_type": "markdown",
   "metadata": {},
   "source": [
    "# Tensorflowの基礎"
   ]
  },
  {
   "cell_type": "markdown",
   "metadata": {},
   "source": [
    "## Tensorflowについて"
   ]
  },
  {
   "cell_type": "markdown",
   "metadata": {},
   "source": [
    "Googleが開発しているオープンソースの機械学習ライブラリ．\n",
    "\n",
    "データフローグラフ構築していく．\n",
    "\n",
    "データの処理にテンソルを使っている．"
   ]
  },
  {
   "cell_type": "markdown",
   "metadata": {},
   "source": [
    "## Tensorflowのインストール\n",
    "\n",
    "### pyenv + anacondaで構築\n",
    "参考URL：https://qiita.com/aical/items/126128c3e8916ad1988f\n",
    "\n",
    "### pyenv installerを使うとインストールが早いらしい"
   ]
  },
  {
   "cell_type": "code",
   "execution_count": null,
   "metadata": {
    "collapsed": true
   },
   "outputs": [],
   "source": [
    "#curl -L https://github.com/pyenv/pyenv-installer/raw/master/bin/pyenv-installer | bash"
   ]
  },
  {
   "cell_type": "markdown",
   "metadata": {},
   "source": [
    "### bashの設定"
   ]
  },
  {
   "cell_type": "code",
   "execution_count": null,
   "metadata": {
    "collapsed": true
   },
   "outputs": [],
   "source": [
    "#$ echo 'export PATH=\"~/.pyenv/bin:$PATH\"' >> ~/.bashrc\n",
    "#$ echo 'eval \"$(pyenv init -)\"' >> ~/.bashrc\n",
    "#$ echo 'eval \"$(pyenv virtualenv-init -)\"' >> ~/.bashrc"
   ]
  },
  {
   "cell_type": "markdown",
   "metadata": {},
   "source": [
    "### pyenv list"
   ]
  },
  {
   "cell_type": "code",
   "execution_count": null,
   "metadata": {
    "collapsed": true
   },
   "outputs": [],
   "source": [
    "# pyenvでインストールできるもののリストを表示\n",
    "#$ pyenv install -l\n",
    "\n",
    "# Anacondaだけ見たいならこのコマンド\n",
    "#$ pyenv install -l | grep anaconda"
   ]
  },
  {
   "cell_type": "markdown",
   "metadata": {},
   "source": [
    "### Anacondaのインストール"
   ]
  },
  {
   "cell_type": "code",
   "execution_count": null,
   "metadata": {
    "collapsed": true
   },
   "outputs": [],
   "source": [
    "# 直前のコマンドで調べたリスト内の自分が必要なものをインストール\n",
    "# 理由がなければpython3系でいいと思う\n",
    "\n",
    "#$ pyenv install anaconda3-4.0.0\n",
    "#$ pyenv global anaconda3-4.0.0"
   ]
  },
  {
   "cell_type": "markdown",
   "metadata": {},
   "source": [
    "### 確認"
   ]
  },
  {
   "cell_type": "code",
   "execution_count": null,
   "metadata": {
    "collapsed": true
   },
   "outputs": [],
   "source": [
    "#$ python --version"
   ]
  },
  {
   "cell_type": "markdown",
   "metadata": {},
   "source": [
    "### Anacondaでのインストール"
   ]
  },
  {
   "cell_type": "code",
   "execution_count": null,
   "metadata": {
    "collapsed": true
   },
   "outputs": [],
   "source": [
    "# Jupyterは入れといたほうがいいと思う\n",
    "#$ conda install jupyter\n",
    "\n",
    "#Tensorflow\n",
    "#$ conda install tensorflow\n",
    "\n",
    "# numpyとか必要なライブラリもconda istall ~で入れられる"
   ]
  },
  {
   "cell_type": "markdown",
   "metadata": {},
   "source": [
    "jupyterは，いろいろ便利なので調べてカスタマイズすると使いやすくなる！"
   ]
  },
  {
   "cell_type": "markdown",
   "metadata": {},
   "source": [
    "### ハマったところ"
   ]
  },
  {
   "cell_type": "markdown",
   "metadata": {},
   "source": [
    "https://anaconda.org/conda-forge/tensorflow に書かれている\n",
    "\n",
    "$conda install -c conda-forge tensorflow\n",
    "\n",
    "コマンドでtensorflowをインストールすると\n",
    "\n",
    "command not found :conda\n",
    "\n",
    "conda コマンドが見えなくなってしまう…\n",
    "\n",
    "python のダウングレードが行われたから？"
   ]
  },
  {
   "cell_type": "markdown",
   "metadata": {},
   "source": [
    "よくわからなかったのでanacondaを再インストールして，\n",
    "\n",
    "$conda install tensorflow でいれなおした．ー＞成功\n",
    "\n",
    "おそらくconda-forgeが悪いのかな？\n",
    "condaコマンドのパスが書き換わってしまう？"
   ]
  },
  {
   "cell_type": "markdown",
   "metadata": {},
   "source": [
    "## 定数"
   ]
  },
  {
   "cell_type": "markdown",
   "metadata": {},
   "source": [
    "定数を宣言して，計算してみる．\n",
    "\n",
    "セッションについては，後々見ていく…\n",
    "\n",
    "sess.run()を実行すると計算グラフが作られる．"
   ]
  },
  {
   "cell_type": "code",
   "execution_count": null,
   "metadata": {
    "collapsed": true
   },
   "outputs": [],
   "source": [
    "import tensorflow as tf"
   ]
  },
  {
   "cell_type": "code",
   "execution_count": null,
   "metadata": {
    "collapsed": true
   },
   "outputs": [],
   "source": [
    "# 定数を代入する操作\n",
    "# これだけでは，まだ実行されていない\n",
    "x = tf.constant(10)\n",
    "print(\"--before--\")\n",
    "print(x)\n",
    "\n",
    "# sess.run()をして，初めて実行される\n",
    "with tf.Session() as sess:\n",
    "    result = sess.run(x)\n",
    "    print(\"--after--\")\n",
    "    print(result)"
   ]
  },
  {
   "cell_type": "code",
   "execution_count": null,
   "metadata": {
    "collapsed": true
   },
   "outputs": [],
   "source": [
    "# 足し算をしてみようという試み\n",
    "const_1 = tf.constant(10)\n",
    "const_2 = tf.constant(30)\n",
    "added = const_1 + const_2 # 10 + 30をする操作　＊まだ実行されていない\n",
    "\n",
    "with tf.Session() as sess:\n",
    "    result = sess.run(added) # ＊ここで初めて実行される\n",
    "    print(result)"
   ]
  },
  {
   "cell_type": "markdown",
   "metadata": {},
   "source": [
    "## Variable\n",
    "\n",
    "初期化しないといけない．\n",
    "\n",
    "モデルのパラメータを表す．\n",
    "\n",
    "グラフを実行してもメモリに残り続ける．\n",
    "\n",
    "勾配降下法を使って繰り返し変更可能．"
   ]
  },
  {
   "cell_type": "code",
   "execution_count": null,
   "metadata": {
    "collapsed": true
   },
   "outputs": [],
   "source": [
    "# ２つの層をつなぐ重み\n",
    "weight = tf.Variable(\n",
    "    tf.random_normal([300,200], stddev=0.5), # 正規分布に従ったテンソルを作成\n",
    "    name='weights' # \n",
    "    # trainable = False # トレーニング対象にしたくないときにFalseにする\n",
    ")"
   ]
  },
  {
   "cell_type": "code",
   "execution_count": null,
   "metadata": {
    "collapsed": true
   },
   "outputs": [],
   "source": [
    "# Valuableの初期化\n",
    "# 初期化の方法はいくつか用意されている\n",
    "tf.zeros(shape, dtype=tf.float32, name=None)\n",
    "tf.ones(shape, dtype=tf.float32, name=None)\n",
    "tf.random_normal(shape, mean=0.0, stddev=1.0, dtype=tf.float32, seed=None, name=None)\n",
    "tf.truncated_normal(shape, mean=0.0, stddev=1.0, dtype=tf.float32, seed=None, name=None)\n",
    "tf.random_uniform(shape, minval=0, maxval=None, dtype=tf.float32, seed=None, name=None)"
   ]
  },
  {
   "cell_type": "markdown",
   "metadata": {},
   "source": [
    "Varialeは，以下の３つの操作がグラフに追加される．\n",
    "- テンソルの生成\n",
    "- Variableを使う前の初期値を与える(tf.assign)\n",
    "- 現在の値を保持する．"
   ]
  },
  {
   "cell_type": "code",
   "execution_count": null,
   "metadata": {
    "collapsed": true
   },
   "outputs": [],
   "source": [
    "# グラフ内の全てのVariableのtf.assignを実行する．\n",
    "tf.global_variables_initializer()\n",
    "# 一部だけの実行\n",
    "tf.global_variables_initializer([var1,var2,...])"
   ]
  },
  {
   "cell_type": "markdown",
   "metadata": {},
   "source": [
    "## プレースホルダ"
   ]
  },
  {
   "cell_type": "markdown",
   "metadata": {},
   "source": [
    "トレーニングやテストのときに値を渡す際に使う．\n",
    "\n",
    "グラフの実行のたびに値がセットされる．\n",
    "\n",
    "x : ミニバッチを表している"
   ]
  },
  {
   "cell_type": "code",
   "execution_count": null,
   "metadata": {
    "collapsed": true
   },
   "outputs": [],
   "source": [
    "# placeholderのインスタンス化\n",
    "x = tf.placeholder(tf.float32, name='x', shape=[None, 784])\n",
    "# 重み\n",
    "W = tf.Variable(tf.random_uniform([784,10], -1, 1), name='W')\n",
    "# 重みと入力(placeholder)の乗算\n",
    "multiple = tf.matmul(x, W)"
   ]
  },
  {
   "cell_type": "markdown",
   "metadata": {},
   "source": [
    "## セッション"
   ]
  },
  {
   "cell_type": "markdown",
   "metadata": {},
   "source": [
    "初期状態の計算グラフを生成する．\n",
    "\n",
    "Variableを正しく初期化して，計算グラフを実行する．\n",
    "\n",
    "sess.run()は，トレーニングにも使われる．"
   ]
  },
  {
   "cell_type": "code",
   "execution_count": null,
   "metadata": {
    "collapsed": true
   },
   "outputs": [],
   "source": [
    "import tensorflow as tf\n",
    "from tensorflow.examples.tutorials.mnist import input_data"
   ]
  },
  {
   "cell_type": "code",
   "execution_count": null,
   "metadata": {
    "collapsed": true
   },
   "outputs": [],
   "source": [
    "# グラフを構築している\n",
    "x = tf.placeholder(tf.float32, name='x', shape=[None, 784])\n",
    "W = tf.Variable(tf.random_uniform([784, 10], -1, 1), name='W')\n",
    "b = tf.Variable(tf.zeros([10]), name='biases')\n",
    "output = tf.matmul(x, W) + b\n",
    "\n",
    "# グラフの初期化\n",
    "init_op = tf.global_variables_initializer()\n",
    "sess = tf.Session()\n",
    "sess.run(init_op)\n",
    "\n",
    "# mnistデータの読込\n",
    "mnist = input_data.read_data_sets('data', one_hot=True)\n",
    "minibatch_x, minibatch_y = mnist.train.next_batch(32)\n",
    "\n",
    "# 実際に計算グラフを実行している\n",
    "feed_dict = {x : minibatch_x}\n",
    "sess.run(output, feed_dict=feed_dict)"
   ]
  },
  {
   "cell_type": "markdown",
   "metadata": {},
   "source": [
    "## Variableのスコープと共有\n",
    "\n",
    "もっと深く見たい人用URL：https://qiita.com/TomokIshii/items/ffe999b3e1a506c396c8\n",
    "\n",
    "同じような構造のネットワークを何回も使いたいときはカプセル化して関数として扱うほうがいいはず！"
   ]
  },
  {
   "cell_type": "code",
   "execution_count": null,
   "metadata": {
    "collapsed": true
   },
   "outputs": [],
   "source": [
    "def my_network(input):\n",
    "    W_1 = tf.Variable(tf.random_uniform([784, 100], -1, 1), name='W_1')\n",
    "    b_1 = tf.Variable(tf.zeros([100]), name='biases_1')\n",
    "    output_1 = tf.matmul(input, W_1) + b_1\n",
    "    \n",
    "    W_2 = tf.Variable(tf.random_uniform([100, 50], -1, 1), name='W_2')\n",
    "    b_2 = tf.Variable(tf.zeros([50]), name='biases_2')\n",
    "    output_2 = tf.matmul(output_1, W_2) + b_2\n",
    "    \n",
    "    W_3 = tf.Variable(tf.random_uniform([50, 10], -1, 1), name='W_3')\n",
    "    b_3 = tf.Variable(tf.zeros([10]), name='biases_3')\n",
    "    output_3 = tf.matmul(output_2, W_3) + b_3\n",
    "    \n",
    "    # parameter display\n",
    "    print(\"Weight names\")\n",
    "    print(W_1.name, W_2.name, W_3.name)"
   ]
  },
  {
   "cell_type": "code",
   "execution_count": null,
   "metadata": {
    "collapsed": true
   },
   "outputs": [],
   "source": [
    "i_1 = tf.placeholder(tf.float32, [1000,784], name='i_1')"
   ]
  },
  {
   "cell_type": "code",
   "execution_count": null,
   "metadata": {
    "collapsed": true
   },
   "outputs": [],
   "source": [
    "my_network(i_1)　\n",
    "# 実行結果\n",
    "# W_1:0 W_2:0 W_3:0"
   ]
  },
  {
   "cell_type": "code",
   "execution_count": null,
   "metadata": {
    "collapsed": true
   },
   "outputs": [],
   "source": [
    "my_network(i_1)\n",
    "# 実行結果\n",
    "# W_1_1:0 W_2_1:0 W_3_1:0\n",
    "# 名前が付け直されてしまっている！！！"
   ]
  },
  {
   "cell_type": "markdown",
   "metadata": {},
   "source": [
    "実行のたびにVariableが新しく作られている\n",
    "\n",
    "これは望ましくないので，名前付けの仕組みを利用して改善しよう！！"
   ]
  },
  {
   "cell_type": "markdown",
   "metadata": {},
   "source": [
    "* tf.get_variable(name, shape, initializer)\n",
    "\n",
    "    指定された名前のVariableがあるかを確認する．\n",
    "\n",
    "    存在したら，そのVariableを返す．\n",
    "\n",
    "    存在しなかったら，指定された条件で作成・初期化を行う．"
   ]
  },
  {
   "cell_type": "markdown",
   "metadata": {},
   "source": [
    "* tf.variable_scope(scope_name)\n",
    "\n",
    "    名前空間を管理し，tf.get_variableの有効範囲を判断する．"
   ]
  },
  {
   "cell_type": "code",
   "execution_count": null,
   "metadata": {
    "collapsed": true
   },
   "outputs": [],
   "source": [
    "# 改善版 my_network\n",
    "def layer(input, weight_shape, bias_shape):\n",
    "    weight_init = tf.random_uniform_initializer(minval=-1, maxval=1)\n",
    "    bias_init = tf.constant_initializer(value=0)\n",
    "    W = tf.get_variable(\"W\", weight_shape, initializer=weight_init)\n",
    "    b = tf.get_variable(\"b\", bias_shape, initializer=bias_init)\n",
    "    return tf.matmul(input, W) + b\n",
    "\n",
    "def my_network_2(input):\n",
    "    with tf.variable_scope(\"layer_1\"):\n",
    "        output_1 = layer(input, [784,100], [100])\n",
    "        \n",
    "    with tf.variable_scope(\"layer_2\"):\n",
    "        output_2 = layer(output_1, [100,50], [50])\n",
    "    \n",
    "    with tf.variable_scope(\"layer_3\"):\n",
    "        output_3 = layer(output_2, [50,10], [10])\n",
    "    \n",
    "    return output_3"
   ]
  },
  {
   "cell_type": "code",
   "execution_count": null,
   "metadata": {
    "collapsed": true
   },
   "outputs": [],
   "source": [
    "i_1 = tf.placeholder(tf.float32, [1000,784], name='i_1')"
   ]
  },
  {
   "cell_type": "code",
   "execution_count": null,
   "metadata": {
    "collapsed": true
   },
   "outputs": [],
   "source": [
    "my_network_2(i_1)"
   ]
  },
  {
   "cell_type": "code",
   "execution_count": null,
   "metadata": {
    "collapsed": true,
    "scrolled": true
   },
   "outputs": [],
   "source": [
    "my_network_2(i_1) # 2回目の実行はエラーになる"
   ]
  },
  {
   "cell_type": "markdown",
   "metadata": {},
   "source": [
    "デフォルトだと共有が無効になっているため2回目の実行がエラーになる\n",
    "\n",
    "特定の実行において共有を有効にしよう！！"
   ]
  },
  {
   "cell_type": "code",
   "execution_count": null,
   "metadata": {
    "collapsed": true
   },
   "outputs": [],
   "source": [
    "with tf.variable_scope(\"shared_variables\") as scope:\n",
    "    i_1 = tf.placeholder(tf.float32, [1000,784], name='i_1')\n",
    "    my_network_2(i_1)\n",
    "    \n",
    "    scope.reuse_variables()\n",
    "    \n",
    "    i_2 = tf.placeholder(tf.float32, [1000,784], name='i_2')\n",
    "    my_network_2(i_2)\n",
    "    \n",
    "# 2回実行できた！！！！"
   ]
  },
  {
   "cell_type": "markdown",
   "metadata": {},
   "source": [
    "## CPUとGPUでのモデルの管理\n",
    "\n",
    "* \"/cpu:0\"\n",
    "    CPUを表す\n",
    "\n",
    "* \"/gpu:1\"\n",
    "    あれば，GPUを表す\n",
    "\n",
    "* \"/gpu:2\"\n",
    "    あれば，GPU2を表す\n",
    "    \n",
    "Tensorflowでは，これらのカーネルが用意されている．\n",
    "\n",
    "GPUが用意されていれば(tensorflow-gpuのインストールが済んでいて，GPUが有効な状態)\n",
    "自動的にGPUを使用する．"
   ]
  },
  {
   "cell_type": "code",
   "execution_count": 15,
   "metadata": {
    "collapsed": true
   },
   "outputs": [],
   "source": [
    "# Tensorflowでのデバイスの確認\n",
    "# sess = tf.Session(config=tf.ConfigProto(log_device_placement=True))"
   ]
  },
  {
   "cell_type": "code",
   "execution_count": 16,
   "metadata": {},
   "outputs": [
    {
     "data": {
      "text/plain": [
       "array([[10.],\n",
       "       [22.]], dtype=float32)"
      ]
     },
     "execution_count": 16,
     "metadata": {},
     "output_type": "execute_result"
    }
   ],
   "source": [
    "c = []\n",
    "\n",
    "for d in [\"/gpu:0\", \"/gpu:1\"]:\n",
    "    with tf.device(d):\n",
    "        a = tf.constant([1.0, 2.0, 3.0, 4.0], shape=[2, 2], name=\"a\")\n",
    "        b = tf.constant([1.0, 2.0], shape=[2, 1], name=\"b\")\n",
    "        c.append(tf.matmul(a, b))\n",
    "\n",
    "with tf.device(\"/cpu:0\"):\n",
    "    sum = tf.add_n(c)\n",
    "\n",
    "sess = tf.Session(\n",
    "    config=tf.ConfigProto(\n",
    "        allow_soft_placement=True,\n",
    "        log_device_placement=True\n",
    "    )\n",
    ")\n",
    "sess.run(sum)"
   ]
  },
  {
   "cell_type": "markdown",
   "metadata": {},
   "source": [
    "## ロジスティック回帰モデル\n",
    "\n",
    "ロジスティック回帰モデル風なネットワーク？"
   ]
  },
  {
   "cell_type": "markdown",
   "metadata": {},
   "source": [
    "### ロジスティック回帰モデル風なネットワーク？"
   ]
  },
  {
   "cell_type": "code",
   "execution_count": 1,
   "metadata": {
    "collapsed": true
   },
   "outputs": [],
   "source": [
    "def inference(x):\n",
    "    init = tf.constant_initializer(value=0)\n",
    "    W = tf.get_variable(\"W\", [784, 10], initializer=init)\n",
    "    b = tf.get_variable(\"b\", [10], initializer=init)\n",
    "    output = tf.nn.softmax(tf.matmul(x, W) + b)\n",
    "    tf.summary.histogram(\"weights\", W)\n",
    "    tf.summary.histogram(\"biases\", b)\n",
    "    tf.summary.histogram(\"output\", output)\n",
    "    \n",
    "    return  output"
   ]
  },
  {
   "cell_type": "code",
   "execution_count": 2,
   "metadata": {
    "collapsed": true
   },
   "outputs": [],
   "source": [
    "def loss(output, y):\n",
    "    elementwise_product = y * tf.log(output)\n",
    "    xentropy = -tf.reduce_sum(elementwise_product, reduction_indices=1)\n",
    "    loss = tf.reduce_mean(xentropy)\n",
    "    \n",
    "    return loss"
   ]
  },
  {
   "cell_type": "code",
   "execution_count": 3,
   "metadata": {
    "collapsed": true
   },
   "outputs": [],
   "source": [
    "def training(cost, global_step):\n",
    "    tf.summary.scalar(\"cost\", cost) # costを記録する\n",
    "    optimizer = tf.train.GradientDescentOptimizer(learning_rate)\n",
    "    train_op = optimizer.minimize(cost, global_step=global_step)\n",
    "    \n",
    "    return train_op"
   ]
  },
  {
   "cell_type": "code",
   "execution_count": 4,
   "metadata": {
    "collapsed": true
   },
   "outputs": [],
   "source": [
    "def evaluate(output, y):\n",
    "    correct_prediction = tf.equal(tf.argmax(output, 1), tf.arg_max(y, 1))\n",
    "    accuracy = tf.reduce_mean(tf.cast(correct_prediction, tf.float32))\n",
    "    tf.summary.scalar(\"validation error\", (1.0 - accuracy))\n",
    "    \n",
    "    return accuracy"
   ]
  },
  {
   "cell_type": "code",
   "execution_count": 5,
   "metadata": {
    "collapsed": true
   },
   "outputs": [],
   "source": [
    "import tensorflow as tf\n",
    "import os,shutil,time\n",
    "from tensorflow.examples.tutorials.mnist import input_data"
   ]
  },
  {
   "cell_type": "code",
   "execution_count": 9,
   "metadata": {},
   "outputs": [
    {
     "name": "stdout",
     "output_type": "stream",
     "text": [
      "Extracting data/train-images-idx3-ubyte.gz\n",
      "Extracting data/train-labels-idx1-ubyte.gz\n",
      "Extracting data/t10k-images-idx3-ubyte.gz\n",
      "Extracting data/t10k-labels-idx1-ubyte.gz\n"
     ]
    }
   ],
   "source": [
    "# MNISTの数字データの読み込み\n",
    "mnist = input_data.read_data_sets(\"data\", one_hot=True)\n",
    "\n",
    "# パラメータ\n",
    "learning_rate = 0.01 # 学習係数\n",
    "training_epochs = 10 # トレーニングのエポック数\n",
    "batch_size = 100 # バッチサイズ\n",
    "display_step = 1 # 各エポックでの表示の頻度"
   ]
  },
  {
   "cell_type": "code",
   "execution_count": 10,
   "metadata": {
    "collapsed": true
   },
   "outputs": [],
   "source": [
    "# 毎回，ログディレクトリを作り直す\n",
    "if os.path.exists(\"logistic_logs\"):\n",
    "        shutil.rmtree(\"logistic_logs\")"
   ]
  },
  {
   "cell_type": "code",
   "execution_count": 11,
   "metadata": {
    "collapsed": true
   },
   "outputs": [
    {
     "name": "stdout",
     "output_type": "stream",
     "text": [
      "INFO:tensorflow:Summary name validation error is illegal; using validation_error instead.\n",
      "WARNING:tensorflow:Passing a `GraphDef` to the SummaryWriter is deprecated. Pass a `Graph` object instead, such as `sess.graph`.\n",
      "Epoch: 0001 cost: 1.176858072\n",
      "Validation Error: 0.14859998226165771\n",
      "Optimization Finished!\n",
      "Test accuracy: 0.853600025177002\n",
      "Epoch: 0002 cost: 0.662730593\n",
      "Validation Error: 0.12879997491836548\n",
      "Optimization Finished!\n",
      "Test accuracy: 0.8734999895095825\n",
      "Epoch: 0003 cost: 0.550704490\n",
      "Validation Error: 0.11979997158050537\n",
      "Optimization Finished!\n",
      "Test accuracy: 0.8827000260353088\n",
      "Epoch: 0004 cost: 0.496709598\n",
      "Validation Error: 0.1151999831199646\n",
      "Optimization Finished!\n",
      "Test accuracy: 0.8866000175476074\n",
      "Epoch: 0005 cost: 0.463758976\n",
      "Validation Error: 0.11080002784729004\n",
      "Optimization Finished!\n",
      "Test accuracy: 0.890999972820282\n",
      "Epoch: 0006 cost: 0.440946981\n",
      "Validation Error: 0.1064000129699707\n",
      "Optimization Finished!\n",
      "Test accuracy: 0.8944000005722046\n",
      "Epoch: 0007 cost: 0.423955196\n",
      "Validation Error: 0.10460001230239868\n",
      "Optimization Finished!\n",
      "Test accuracy: 0.8978000283241272\n",
      "Epoch: 0008 cost: 0.410687065\n",
      "Validation Error: 0.10259997844696045\n",
      "Optimization Finished!\n",
      "Test accuracy: 0.9002000093460083\n",
      "Epoch: 0009 cost: 0.399869137\n",
      "Validation Error: 0.10100001096725464\n",
      "Optimization Finished!\n",
      "Test accuracy: 0.901199996471405\n",
      "Epoch: 0010 cost: 0.390930655\n",
      "Validation Error: 0.09880000352859497\n",
      "Optimization Finished!\n",
      "Test accuracy: 0.9031000137329102\n"
     ]
    }
   ],
   "source": [
    "with tf.Graph().as_default(): # グラフを書く際のMain部分という感じのスコープ設定\n",
    "    x = tf.placeholder(\"float\",[None, 784]) # 入力データ \n",
    "    y = tf.placeholder(\"float\",[None, 10])  # 教師信号\n",
    "    \n",
    "    with tf.name_scope('inference') as scope: # 名前を付与して細かく表示を分けられる\n",
    "        output = inference(x) # 前向きの計算で出力を求める操作\n",
    "    cost = loss(output, y) # 誤差を計算する操作\n",
    "    global_step = tf.Variable(0, name=\"global_step\", trainable=False)\n",
    "    train_op =training(cost,global_step) # 訓練を行う操作\n",
    "    eval_op = evaluate(output, y) # 評価を行う操作\n",
    "    summary_op = tf.summary.merge_all() # 要約統計量を集める\n",
    "    saver = tf.train.Saver() #全ての変数を保存する操作\n",
    "    sess = tf.Session()\n",
    "    summary_writer = tf.summary.FileWriter(\n",
    "        \"logistic_logs\",\n",
    "        graph_def=sess.graph_def\n",
    "    )\n",
    "    \n",
    "    # 全てのassignを事前に実行しておく\n",
    "    init_op = tf.global_variables_initializer()\n",
    "    sess.run(init_op)\n",
    "    \n",
    "    # トレーニング\n",
    "    for epoch in range(training_epochs):\n",
    "        #\n",
    "        avg_cost = 0\n",
    "        # 総バッチ数を求めている (データ数 / バッチサイズ) \n",
    "        total_batch = int(mnist.train.num_examples / batch_size)\n",
    "        \n",
    "        # 総バッチ数分，回す\n",
    "        for i in range(total_batch):\n",
    "            # ミニバッチを取得\n",
    "            minibatch_x, minibatch_y = mnist.train.next_batch(batch_size)\n",
    "            # バッチデータに対してトレーニング\n",
    "            sess.run(train_op, feed_dict={x: minibatch_x, y: minibatch_y})\n",
    "            # 平均誤差計算のために誤差を足していってる\n",
    "            avg_cost += sess.run(\n",
    "                cost,feed_dict={x: minibatch_x, y: minibatch_y}\n",
    "            ) / total_batch\n",
    "        \n",
    "        # エポック数と誤差の表示を行う\n",
    "        if epoch % display_step == 0:\n",
    "            print(\"Epoch: {:04d} cost: {:.9f}\".format(epoch+1, avg_cost))\n",
    "            \n",
    "            accuracy = sess.run(\n",
    "                eval_op, \n",
    "                feed_dict={x: mnist.validation.images, y: mnist.validation.labels})\n",
    "            print(\"Validation Error: {}\".format(1 - accuracy))\n",
    "            \n",
    "            summary_str = sess.run(\n",
    "                summary_op,\n",
    "                feed_dict={x: minibatch_x, y: minibatch_y}\n",
    "            )\n",
    "            summary_writer.add_summary(summary_str, sess.run(global_step))\n",
    "            # モデルの保存\n",
    "            saver.save(\n",
    "                sess,\n",
    "                os.path.join(\"logistic_logs\", \"model-checkpoint\"),\n",
    "                global_step=global_step\n",
    "            )\n",
    "        \n",
    "        print(\"Optimization Finished!\")\n",
    "        accuracy = sess.run(\n",
    "            eval_op, feed_dict={x: mnist.test.images, y: mnist.test.labels}\n",
    "        )\n",
    "        print(\"Test accuracy: {}\".format(accuracy))\n",
    "            \n",
    "            "
   ]
  },
  {
   "cell_type": "markdown",
   "metadata": {},
   "source": [
    "#### よく使われるMNISTデータ\n",
    "\n",
    "当たり前のようにmnist.train.next_batch(batch_size)とか使ってるけど\n",
    "\n",
    "中身の型とかどんなんだっけ？ってなった時用\n",
    "\n",
    "参考URL：https://qiita.com/mochizukikotaro/items/dad28b196ee0ecfd8c66"
   ]
  },
  {
   "cell_type": "markdown",
   "metadata": {},
   "source": [
    "## モデルの保存・復元\n",
    "\n",
    "参考URL：https://www.tensorflow.org/api_docs/python/tf/train/Saver\n",
    "         https://qiita.com/yukiB/items/a7a92af4b27e0c4e6eb2"
   ]
  },
  {
   "cell_type": "code",
   "execution_count": 13,
   "metadata": {},
   "outputs": [],
   "source": [
    "# モデルの保存\n",
    "#saver = tf.train.Saver()\n",
    "#saver.save(sess, './model/test_model')"
   ]
  },
  {
   "cell_type": "code",
   "execution_count": null,
   "metadata": {
    "collapsed": true
   },
   "outputs": [],
   "source": [
    "# モデルの復元\n",
    "#saver = tf.train.Saver()\n",
    "#sess = tf.Session()\n",
    "#saver.restore(sess, './model/test_model')"
   ]
  },
  {
   "cell_type": "markdown",
   "metadata": {},
   "source": [
    "### TensorBoardを利用した可視化\n",
    "\n",
    "参考URL：https://qiita.com/kannkyo/items/3ff9c5c66c449450d7ab\n",
    "\n",
    "アクセスポート：http://localhost:6006/"
   ]
  },
  {
   "cell_type": "code",
   "execution_count": null,
   "metadata": {
    "collapsed": true
   },
   "outputs": [],
   "source": [
    "# tensorboard の起動コマンド\n",
    "# tensorboard --logdir=<logdir> --port=<port_number>\n",
    "\n",
    "# デフォルトのポートは6006になっている\n",
    "# http://localhost:6006/"
   ]
  },
  {
   "cell_type": "markdown",
   "metadata": {},
   "source": [
    "# Tensorflowを応用してみよう"
   ]
  },
  {
   "cell_type": "markdown",
   "metadata": {},
   "source": [
    "## 多階層のMNISTモデル\n",
    "\n",
    "先程のロジステイック回帰風モデル？を以下のように追記・変更すれば良い\n",
    "\n",
    "inferenceが変わっただけ.ちなみにinferenceは，推論という意味らしい．"
   ]
  },
  {
   "cell_type": "code",
   "execution_count": 11,
   "metadata": {
    "collapsed": true
   },
   "outputs": [],
   "source": [
    "def layer(input,weight_shape, bias_shape):\n",
    "    \n",
    "    weight_init = tf.random_normal_initializer(\n",
    "        stddev=(2.0/weight_shape[0])**0.5\n",
    "    )\n",
    "    bias_init = tf.constant_initializer(value=0)\n",
    "    \n",
    "    W = tf.Variable(\"W\", weight_shape, initalizer=weight_init)\n",
    "    b = tf.Variable(\"b\", bias_shape, initializer=bias_init)\n",
    "    \n",
    "    output = tf.matmul(input, W) + b\n",
    "    \n",
    "    return tf.nn.relu(output)"
   ]
  },
  {
   "cell_type": "code",
   "execution_count": 12,
   "metadata": {
    "collapsed": true
   },
   "outputs": [],
   "source": [
    "def inference(x):\n",
    "    with tf.variable_scope(\"hidden_1\"):\n",
    "        hidden_1 = layer(x, [784, 256], [256])     \n",
    "    with tf.variable_scope(\"hidden_2\"):\n",
    "        hidden_2 = layer(hidden_1, [256, 256], [256])\n",
    "    with tf.variable_scope(\"output\"):\n",
    "        output = layer(hidden_2, [256, 10], [10])\n",
    "    return output"
   ]
  },
  {
   "cell_type": "markdown",
   "metadata": {},
   "source": [
    "## CNN"
   ]
  },
  {
   "cell_type": "markdown",
   "metadata": {},
   "source": [
    "コードは，別で．\n",
    "\n",
    "GPUで実行しようとしたら，cuDNNのinitialize errorが出た．\n",
    "\n",
    "バージョンの関係かと思ったが多層パーセプトロンだとGPU使えているっぽい．\n",
    "\n",
    "もう少し調べてみる．\n",
    "\n",
    "CPUだと動いたけれど結構時間がかかりそう…"
   ]
  },
  {
   "cell_type": "markdown",
   "metadata": {},
   "source": [
    "## 結果の比較"
   ]
  },
  {
   "cell_type": "markdown",
   "metadata": {},
   "source": [
    "Logistic? : 0.9031000137329102\n",
    "\n",
    "Multi     : 0.9736999869346619\n"
   ]
  },
  {
   "cell_type": "markdown",
   "metadata": {},
   "source": [
    "## 参考文献"
   ]
  },
  {
   "cell_type": "markdown",
   "metadata": {},
   "source": [
    "- 実践Deep Learninng, O'REILY (https://www.oreilly.co.jp/books/9784873118321/)\n",
    "\n",
    "- Tensorflow (https://www.tensorflow.org/?hl=ja)"
   ]
  }
 ],
 "metadata": {
  "kernelspec": {
   "display_name": "Python 3",
   "language": "python",
   "name": "python3"
  },
  "language_info": {
   "codemirror_mode": {
    "name": "ipython",
    "version": 3
   },
   "file_extension": ".py",
   "mimetype": "text/x-python",
   "name": "python",
   "nbconvert_exporter": "python",
   "pygments_lexer": "ipython3",
   "version": "3.7.0"
  },
  "latex_envs": {
   "LaTeX_envs_menu_present": true,
   "autoclose": false,
   "autocomplete": true,
   "bibliofile": "biblio.bib",
   "cite_by": "apalike",
   "current_citInitial": 1,
   "eqLabelWithNumbers": true,
   "eqNumInitial": 1,
   "hotkeys": {
    "equation": "Ctrl-E",
    "itemize": "Ctrl-I"
   },
   "labels_anchors": false,
   "latex_user_defs": false,
   "report_style_numbering": false,
   "user_envs_cfg": false
  },
  "toc": {
   "base_numbering": "1",
   "nav_menu": {
    "height": "162px",
    "width": "169px"
   },
   "number_sections": true,
   "sideBar": true,
   "skip_h1_title": true,
   "title_cell": "Table of Contents",
   "title_sidebar": "Contents",
   "toc_cell": true,
   "toc_position": {
    "height": "calc(100% - 180px)",
    "left": "10px",
    "top": "150px",
    "width": "273.188px"
   },
   "toc_section_display": true,
   "toc_window_display": true
  }
 },
 "nbformat": 4,
 "nbformat_minor": 2
}
